{
 "cells": [
  {
   "cell_type": "markdown",
   "metadata": {},
   "source": [
    "### Convert to Binary Image:\n",
    "Use image processing software (e.g., ImageJ, Python, MATLAB) to threshold the image and create a binary mask where pores are white (1) and the polymer film is black (0)."
   ]
  },
  {
   "cell_type": "code",
   "execution_count": 4,
   "metadata": {},
   "outputs": [],
   "source": [
    "import cv2\n",
    "import numpy as np\n",
    "import matplotlib.pyplot as plt\n",
    "from skimage import measure\n",
    "\n",
    "image_path = '0.1%B.png'\n",
    "image = cv2.imread(image_path, cv2.IMREAD_GRAYSCALE)\n",
    "\n",
    "# Preprocess the image (thresholding to highlight pores)\n",
    "_, binary_image = cv2.threshold(image, 128, 255, cv2.THRESH_BINARY_INV)\n",
    "\n",
    "# Find contours of the pores\n",
    "contours = measure.find_contours(binary_image, 0.8)\n",
    "\n",
    "# Extract centroids of the pores\n",
    "centroids = []\n",
    "for contour in contours:\n",
    "    M = cv2.moments(contour)\n",
    "    if M[\"m00\"] != 0:\n",
    "        cx = int(M[\"m10\"] / M[\"m00\"])  # X-coordinate of centroid\n",
    "        cy = int(M[\"m01\"] / M[\"m00\"])  # Y-coordinate of centroid\n",
    "        centroids.append((cx, cy))\n",
    "\n",
    "centroids = np.array(centroids)"
   ]
  },
  {
   "cell_type": "code",
   "execution_count": 5,
   "metadata": {},
   "outputs": [
    {
     "ename": "QhullError",
     "evalue": "QH6013 qhull input error: input is less than 3-dimensional since all points have the same x coordinate    0\n\nWhile executing:  | qhull v Qc Qz Qbb\nOptions selected for Qhull 2019.1.r 2019/06/21:\n  run-id 1579129256  voronoi  Qcoplanar-keep  Qz-infinity-point  Qbbound-last\n  _pre-merge  _zero-centrum  Qinterior-keep  Pgood  _max-width 1.2e+03\n  Error-roundoff 1.7e-12  _one-merge 1.2e-11  Visible-distance 3.5e-12\n  U-max-coplanar 3.5e-12  Width-outside 6.9e-12  _wide-facet 2.1e-11\n  _maxoutside 1.4e-11\n",
     "output_type": "error",
     "traceback": [
      "\u001b[0;31m---------------------------------------------------------------------------\u001b[0m",
      "\u001b[0;31mQhullError\u001b[0m                                Traceback (most recent call last)",
      "Cell \u001b[0;32mIn[5], line 4\u001b[0m\n\u001b[1;32m      1\u001b[0m \u001b[38;5;28;01mfrom\u001b[39;00m \u001b[38;5;21;01mscipy\u001b[39;00m\u001b[38;5;21;01m.\u001b[39;00m\u001b[38;5;21;01mspatial\u001b[39;00m \u001b[38;5;28;01mimport\u001b[39;00m Voronoi, voronoi_plot_2d\n\u001b[1;32m      3\u001b[0m \u001b[38;5;66;03m# Compute the Voronoi diagram\u001b[39;00m\n\u001b[0;32m----> 4\u001b[0m vor \u001b[38;5;241m=\u001b[39m \u001b[43mVoronoi\u001b[49m\u001b[43m(\u001b[49m\u001b[43mcentroids\u001b[49m\u001b[43m)\u001b[49m\n\u001b[1;32m      6\u001b[0m \u001b[38;5;66;03m# Plot the Voronoi diagram\u001b[39;00m\n\u001b[1;32m      7\u001b[0m fig, ax \u001b[38;5;241m=\u001b[39m plt\u001b[38;5;241m.\u001b[39msubplots(figsize\u001b[38;5;241m=\u001b[39m(\u001b[38;5;241m10\u001b[39m, \u001b[38;5;241m10\u001b[39m))\n",
      "File \u001b[0;32m_qhull.pyx:2677\u001b[0m, in \u001b[0;36mscipy.spatial._qhull.Voronoi.__init__\u001b[0;34m()\u001b[0m\n",
      "File \u001b[0;32m_qhull.pyx:352\u001b[0m, in \u001b[0;36mscipy.spatial._qhull._Qhull.__init__\u001b[0;34m()\u001b[0m\n",
      "\u001b[0;31mQhullError\u001b[0m: QH6013 qhull input error: input is less than 3-dimensional since all points have the same x coordinate    0\n\nWhile executing:  | qhull v Qc Qz Qbb\nOptions selected for Qhull 2019.1.r 2019/06/21:\n  run-id 1579129256  voronoi  Qcoplanar-keep  Qz-infinity-point  Qbbound-last\n  _pre-merge  _zero-centrum  Qinterior-keep  Pgood  _max-width 1.2e+03\n  Error-roundoff 1.7e-12  _one-merge 1.2e-11  Visible-distance 3.5e-12\n  U-max-coplanar 3.5e-12  Width-outside 6.9e-12  _wide-facet 2.1e-11\n  _maxoutside 1.4e-11\n"
     ]
    }
   ],
   "source": [
    "from scipy.spatial import Voronoi, voronoi_plot_2d\n",
    "\n",
    "# Compute the Voronoi diagram\n",
    "vor = Voronoi(centroids)\n",
    "\n",
    "# Plot the Voronoi diagram\n",
    "fig, ax = plt.subplots(figsize=(10, 10))\n",
    "voronoi_plot_2d(vor, ax=ax, show_vertices=False, line_colors='blue', line_width=1, line_alpha=0.6)\n",
    "\n",
    "# Overlay the pore centroids\n",
    "ax.scatter(centroids[:, 0], centroids[:, 1], c='red', s=10, marker='o', label='Pore Centers')\n",
    "ax.set_title(\"Voronoi Analysis of Breath Figure Array\")\n",
    "ax.set_xlabel(\"X\")\n",
    "ax.set_ylabel(\"Y\")\n",
    "ax.legend()\n",
    "plt.show()"
   ]
  }
 ],
 "metadata": {
  "kernelspec": {
   "display_name": "Python 3",
   "language": "python",
   "name": "python3"
  },
  "language_info": {
   "codemirror_mode": {
    "name": "ipython",
    "version": 3
   },
   "file_extension": ".py",
   "mimetype": "text/x-python",
   "name": "python",
   "nbconvert_exporter": "python",
   "pygments_lexer": "ipython3",
   "version": "3.12.1"
  }
 },
 "nbformat": 4,
 "nbformat_minor": 2
}
